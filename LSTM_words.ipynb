{
 "cells": [
  {
   "cell_type": "code",
   "execution_count": 7,
   "id": "463b64e7-1433-4e24-865a-5282d58612f6",
   "metadata": {},
   "outputs": [],
   "source": [
    "import torch\n",
    "from torch.utils.data import Dataset, DataLoader\n",
    "import torch.nn.functional as F\n",
    "\n",
    "from sklearn.model_selection import train_test_split\n",
    "import numpy as np\n",
    "import random\n",
    "import matplotlib.pyplot as plt\n",
    "from tqdm import tqdm\n",
    "\n",
    "from torchinfo import summary\n",
    "\n",
    "def accuracy(y_true, y_pred):\n",
    "  correct = torch.eq(y_true, y_pred).sum().item()\n",
    "  return correct/len(y_pred)*100\n",
    "\n",
    "device = \"cuda\" if torch.cuda.is_available() else \"cpu\"\n",
    "\n",
    "\n",
    "# Label encoding for genders and plurality\n",
    "gender_to_idx = {\"masculine\": 0, \"feminine\": 1, \"neutral\": 2}\n",
    "\n",
    "# Der die das to idx:\n",
    "artikel_to_idx = {\"der\": 0, \"die\": 1, \"das\": 2}"
   ]
  },
  {
   "cell_type": "code",
   "execution_count": 8,
   "id": "bbb38f10-bf5a-479d-a028-6f0c66329f35",
   "metadata": {},
   "outputs": [],
   "source": [
    "random.seed(42)\n",
    "np.random.seed(42)\n",
    "torch.manual_seed(42)\n",
    "\n",
    "if torch.cuda.is_available():\n",
    "    torch.cuda.manual_seed(42)\n",
    "\n",
    "torch.backends.cudnn.deterministic = True\n",
    "torch.backends.cudnn.benchmark = False"
   ]
  },
  {
   "cell_type": "code",
   "execution_count": 9,
   "id": "3b9aceb8-fc36-4e6e-9b81-512a46702a23",
   "metadata": {},
   "outputs": [
    {
     "data": {
      "text/plain": [
       "[27831, 35956, 17788]"
      ]
     },
     "execution_count": 9,
     "metadata": {},
     "output_type": "execute_result"
    }
   ],
   "source": [
    "# Replace 'your_file.txt' with the name of your file\n",
    "file_path = 'words_small.txt'\n",
    "file_path_2 = 'words_big.txt'\n",
    "\n",
    "data = []\n",
    "\n",
    "\"\"\"# Read and split lines\n",
    "with open(file_path, 'r', encoding='utf-8') as file:\n",
    "    for line in file:\n",
    "        columns = line.split()\n",
    "        if len(columns) >= 4:\n",
    "            data.append([artikel_to_idx[columns[2].lower()], columns[3].lower()])\n",
    "            try:\n",
    "                if \"(\" not in columns[4] and random.randint(0, 2) == 1:\n",
    "                    data.append([3, columns[5].lower()])\n",
    "            except IndexError:\n",
    "                pass\n",
    "\"\"\"\n",
    "\n",
    "with open(file_path_2, 'r') as file:\n",
    "    for line in file:\n",
    "        word, numbers = line.split(maxsplit=1)\n",
    "        num1, num2, num3 = map(int, numbers.split(','))\n",
    "\n",
    "        if num1 != 0:\n",
    "            data.append([0, word])\n",
    "        if num2 != 0:\n",
    "            data.append([1, word])\n",
    "        if num3 != 0:\n",
    "            data.append([2, word])\n",
    "\n",
    "data = data[:len(data)//4]\n",
    "\n",
    "data_train, data_test = train_test_split(data, test_size=0.2)\n",
    "\n",
    "counts = [0, 0, 0]\n",
    "for i in data:\n",
    "    counts[i[0]] += 1\n",
    "\n",
    "counts"
   ]
  },
  {
   "cell_type": "code",
   "execution_count": 10,
   "id": "7ee69b4d-441e-42e2-81d8-42b63b68719b",
   "metadata": {},
   "outputs": [],
   "source": [
    "class GermanNounDataset(Dataset):\n",
    "    def __init__(self, data, char_to_idx):\n",
    "        self.data = data\n",
    "        self.char_to_idx = char_to_idx\n",
    "\n",
    "    def __len__(self):\n",
    "        return len(self.data)\n",
    "\n",
    "    def __getitem__(self, idx):\n",
    "        index, word = self.data[idx]\n",
    "        # Convert word to character indices\n",
    "        word_indices = [self.char_to_idx[char] for char in word]\n",
    "        \n",
    "        return torch.tensor(word_indices, dtype=torch.long), index\n",
    "\n",
    "# Create character to index mapping\n",
    "chars = set(\"\".join([word for _, word in data]))\n",
    "char_to_idx = {char: idx + 1 for idx, char in enumerate(sorted(chars))}\n",
    "char_to_idx['<pad>'] = 0  # Padding token\n",
    "\n",
    "# Initialize dataset and DataLoader\n",
    "train_dataset = GermanNounDataset(data_train, char_to_idx)\n",
    "test_dataset = GermanNounDataset(data_test, char_to_idx)\n",
    "\n",
    "test_dataloader = DataLoader(test_dataset, batch_size=32, collate_fn=lambda x: collate_fn(x))\n",
    "train_dataloader = DataLoader(train_dataset, batch_size=32, collate_fn=lambda x: collate_fn(x))\n",
    "\n",
    "# Collate function to pad sequences\n",
    "def collate_fn(batch):\n",
    "    words, indices = zip(*batch)\n",
    "    max_len = max(len(w) for w in words)\n",
    "    padded_words = torch.zeros(len(words), max_len, dtype=torch.long)\n",
    "    \n",
    "    for i, word in enumerate(words):\n",
    "        padded_words[i, :len(word)] = word\n",
    "\n",
    "    return padded_words, torch.tensor(indices)"
   ]
  },
  {
   "cell_type": "code",
   "execution_count": 11,
   "id": "7830905d-44cb-479b-a428-a1a0c802c21a",
   "metadata": {},
   "outputs": [
    {
     "name": "stderr",
     "output_type": "stream",
     "text": [
      "C:\\Users\\Tomek\\AppData\\Local\\Programs\\Python\\Python311\\Lib\\site-packages\\torch\\nn\\modules\\rnn.py:83: UserWarning: dropout option adds dropout after all but last recurrent layer, so non-zero dropout expects num_layers greater than 1, but got dropout=0.8 and num_layers=1\n",
      "  warnings.warn(\"dropout option adds dropout after all but last \"\n"
     ]
    },
    {
     "data": {
      "text/plain": [
       "========================================================================================================================\n",
       "Layer (type (var_name))                  Input Shape          Output Shape         Param #              Trainable\n",
       "========================================================================================================================\n",
       "ArtikelClassifier (ArtikelClassifier)    [1, 10]              [1, 3]               --                   True\n",
       "├─Embedding (embedding)                  [1, 10]              [1, 10, 32]          992                  True\n",
       "├─LSTM (lstm)                            [1, 10, 32]          [1, 10, 16]          2,688                True\n",
       "├─Sequential (indices_fc)                [1, 16]              [1, 3]               --                   True\n",
       "│    └─Linear (0)                        [1, 16]              [1, 3]               51                   True\n",
       "========================================================================================================================\n",
       "Total params: 3,731\n",
       "Trainable params: 3,731\n",
       "Non-trainable params: 0\n",
       "Total mult-adds (Units.MEGABYTES): 0.03\n",
       "========================================================================================================================\n",
       "Input size (MB): 0.00\n",
       "Forward/backward pass size (MB): 0.00\n",
       "Params size (MB): 0.01\n",
       "Estimated Total Size (MB): 0.02\n",
       "========================================================================================================================"
      ]
     },
     "execution_count": 11,
     "metadata": {},
     "output_type": "execute_result"
    }
   ],
   "source": [
    "import torch.nn as nn\n",
    "\n",
    "class ArtikelTransformer(nn.Module):\n",
    "    def __init__(self, vocab_size, embedding_dim, num_heads, hidden_dim, num_layers):\n",
    "        super(ArtikelTransformer, self).__init__()\n",
    "        self.embedding = nn.Embedding(vocab_size, embedding_dim, padding_idx=0)\n",
    "        self.pos_embedding = nn.Parameter(torch.zeros(1, 100, embedding_dim))  # Assuming max length of 100\n",
    "        encoder_layer = nn.TransformerEncoderLayer(\n",
    "            d_model=embedding_dim, nhead=num_heads, dim_feedforward=hidden_dim\n",
    "        )\n",
    "        self.transformer = nn.TransformerEncoder(encoder_layer, num_layers=num_layers)\n",
    "        self.fc_indices = nn.Linear(embedding_dim, 4)\n",
    "\n",
    "    def forward(self, x):\n",
    "        seq_len = x.size(1)\n",
    "        pos_embedded = self.pos_embedding[:, :seq_len, :]\n",
    "        embedded = self.embedding(x) + pos_embedded\n",
    "        transformer_out = self.transformer(embedded)\n",
    "        pooled_out = transformer_out.mean(dim=1)\n",
    "        return self.fc_indices(pooled_out)\n",
    "\n",
    "class ArtikelClassifier(nn.Module):\n",
    "    def __init__(self, vocab_size, embedding_dim, hidden_dim, dropout, num_layers):\n",
    "        super(ArtikelClassifier, self).__init__()\n",
    "        self.num_layers = num_layers\n",
    "        self.embedding = nn.Embedding(vocab_size, embedding_dim, padding_idx=0)\n",
    "        self.lstm = nn.LSTM(embedding_dim, hidden_dim, batch_first=True, dropout=dropout, bidirectional=True, num_layers=num_layers)\n",
    "        \n",
    "        self.indices_fc = nn.Sequential(nn.Linear(2*hidden_dim*num_layers, 3),\n",
    "                                       )\n",
    "\n",
    "    def forward(self, x):\n",
    "        embedded = self.embedding(x)\n",
    "        _, (hidden, _) = self.lstm(embedded)\n",
    "        hidden = hidden.squeeze(0)\n",
    "        hidden = torch.cat(tuple([hidden[i] for i in range(2*self.num_layers)]), dim=1)\n",
    "        #hidden = hidden.squeeze(0)\n",
    "\n",
    "        indices_output = self.indices_fc(hidden)\n",
    "\n",
    "        return indices_output\n",
    "\n",
    "# Initialize the model\n",
    "vocab_size = len(char_to_idx)\n",
    "embedding_dim = 8\n",
    "hidden_dim = 16\n",
    "num_filters = 16\n",
    "num_heads = 8\n",
    "num_layers = 4\n",
    "model = ArtikelClassifier(vocab_size, embedding_dim=32, hidden_dim=8, dropout=0.8, num_layers=1)\n",
    "#model = ArtikelTransformer(vocab_size, embedding_dim, num_heads, hidden_dim, num_layers).to(device)\n",
    "model.to(device)\n",
    "\n",
    "summary(model, input_size=(1, 10), dtypes=[torch.long], col_names=[\"input_size\", \"output_size\", \"num_params\", \"trainable\"], col_width=20, row_settings=[\"var_names\"])"
   ]
  },
  {
   "cell_type": "code",
   "execution_count": 12,
   "id": "4555ad35-cabf-4d38-ae7e-6aed3a01f204",
   "metadata": {},
   "outputs": [],
   "source": [
    "optimizer = torch.optim.Adam(model.parameters(), lr=0.001)\n",
    "\n",
    "train_losses = []\n",
    "test_losses = []\n",
    "test_accuracies = []"
   ]
  },
  {
   "cell_type": "code",
   "execution_count": 13,
   "id": "f03255d8-c45f-44f2-a212-ff25977b2369",
   "metadata": {},
   "outputs": [
    {
     "name": "stdout",
     "output_type": "stream",
     "text": [
      "Epoch 1, Train_loss: 0.8600, Test_loss: 0.7163, Accuracy: 69.0353\n",
      "Epoch 2, Train_loss: 0.7131, Test_loss: 0.7010, Accuracy: 69.3350\n",
      "Epoch 3, Train_loss: 0.6794, Test_loss: 0.6433, Accuracy: 74.0680\n",
      "Epoch 4, Train_loss: 0.6313, Test_loss: 0.6270, Accuracy: 74.7660\n",
      "Epoch 5, Train_loss: 0.6020, Test_loss: 0.5853, Accuracy: 78.0754\n"
     ]
    }
   ],
   "source": [
    "# Training loop\n",
    "for epoch in range(5):  # Number of epochs\n",
    "    train_loss = 0\n",
    "    model.train()\n",
    "    for words, indices in train_dataloader:\n",
    "        optimizer.zero_grad()\n",
    "\n",
    "        # Forward pass\n",
    "        indices_output = model(words.to(device))\n",
    "\n",
    "        # Calculate loss\n",
    "        loss = F.cross_entropy(indices_output, indices.to(device))\n",
    "        train_loss += loss\n",
    "\n",
    "        # Combine the losses\n",
    "        loss.backward()\n",
    "\n",
    "        optimizer.step()\n",
    "\n",
    "    train_loss /= len(train_dataloader)\n",
    "    train_losses.append(train_loss.cpu().detach().numpy())\n",
    "\n",
    "    test_loss = 0\n",
    "    test_accuracy = 0\n",
    "    with torch.inference_mode():\n",
    "        for words, indices in test_dataloader:\n",
    "            # Forward pass\n",
    "            indices_output = model(words.to(device))\n",
    "    \n",
    "            # Calculate loss\n",
    "            test_loss += F.cross_entropy(indices_output, indices.to(device))\n",
    "            test_accuracy += accuracy(indices, indices_output.argmax(dim=1).cpu())\n",
    "\n",
    "        test_loss /= len(test_dataloader)\n",
    "        test_losses.append(test_loss.cpu())\n",
    "\n",
    "        test_accuracy /= len(test_dataloader)\n",
    "        test_accuracies.append(test_accuracy)\n",
    "\n",
    "\n",
    "    print(f\"Epoch {epoch+1}, Train_loss: {train_loss.item():.4f}, Test_loss: {test_loss.item():.4f}, Accuracy: {test_accuracy:.4f}\")"
   ]
  },
  {
   "cell_type": "code",
   "execution_count": 14,
   "id": "2246c00e-f393-4f14-965c-ae6ab49f06a4",
   "metadata": {},
   "outputs": [
    {
     "data": {
      "image/png": "[encoded data removed]",
      "text/plain": [
       "<Figure size 640x480 with 1 Axes>"
      ]
     },
     "metadata": {},
     "output_type": "display_data"
    }
   ],
   "source": [
    "plt.plot(test_losses, label=\"test\")\n",
    "plt.plot(train_losses, label=\"train\")\n",
    "plt.legend()\n",
    "plt.show()"
   ]
  },
  {
   "cell_type": "code",
   "execution_count": 15,
   "id": "587e8d1c-287b-4504-9c14-31280941af92",
   "metadata": {},
   "outputs": [
    {
     "data": {
      "image/png": "[encoded data removed]",
      "text/plain": [
       "<Figure size 640x480 with 1 Axes>"
      ]
     },
     "metadata": {},
     "output_type": "display_data"
    }
   ],
   "source": [
    "#plt.plot(train_accuracies, label=\"train\")\n",
    "plt.plot(test_accuracies, label=\"test\")\n",
    "plt.legend()\n",
    "plt.show()"
   ]
  },
  {
   "cell_type": "code",
   "execution_count": 16,
   "id": "bb806bbf-0f1b-451a-9781-6229db6722c7",
   "metadata": {},
   "outputs": [
    {
     "name": "stdout",
     "output_type": "stream",
     "text": [
      "der\n"
     ]
    }
   ],
   "source": [
    "def predict(model, word, char_to_idx):\n",
    "    model.eval()\n",
    "    word_indices = [char_to_idx[char] for char in word.lower()]\n",
    "    word_tensor = torch.tensor(word_indices, dtype=torch.long).unsqueeze(0).to(device)\n",
    "    \n",
    "    with torch.no_grad():\n",
    "        output = model(word_tensor)\n",
    "\n",
    "        idx = torch.argmax(output, dim=1).item()\n",
    "\n",
    "    idx_to_artikel = {v: k for k, v in artikel_to_idx.items()}\n",
    "\n",
    "    return idx_to_artikel[idx]\n",
    "\n",
    "# Example usage\n",
    "print(predict(model, \"Popo\", char_to_idx))"
   ]
  },
  {
   "cell_type": "code",
   "execution_count": null,
   "id": "66c0cf2c-e7e1-4fea-9d69-8cb4b0a9d18c",
   "metadata": {},
   "outputs": [],
   "source": []
  }
 ],
 "metadata": {
  "kernelspec": {
   "display_name": "Python 3 (ipykernel)",
   "language": "python",
   "name": "python3"
  },
  "language_info": {
   "codemirror_mode": {
    "name": "ipython",
    "version": 3
   },
   "file_extension": ".py",
   "mimetype": "text/x-python",
   "name": "python",
   "nbconvert_exporter": "python",
   "pygments_lexer": "ipython3",
   "version": "3.11.4"
  }
 },
 "nbformat": 4,
 "nbformat_minor": 5
}
